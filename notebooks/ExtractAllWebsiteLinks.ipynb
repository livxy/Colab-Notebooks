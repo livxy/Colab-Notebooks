{
  "nbformat": 4,
  "nbformat_minor": 0,
  "metadata": {
    "colab": {
      "provenance": [],
      "collapsed_sections": [],
      "authorship_tag": "ABX9TyORkwMmZHT9HHVVWE5qYyHy",
      "include_colab_link": true
    },
    "kernelspec": {
      "name": "python3",
      "display_name": "Python 3"
    },
    "language_info": {
      "name": "python"
    }
  },
  "cells": [
    {
      "cell_type": "markdown",
      "metadata": {
        "id": "view-in-github",
        "colab_type": "text"
      },
      "source": [
        "<a href=\"https://colab.research.google.com/github/livxy/Colab-Notebooks/blob/main/notebooks/ExtractAllWebsiteLinks.ipynb\" target=\"_parent\"><img src=\"https://colab.research.google.com/assets/colab-badge.svg\" alt=\"Open In Colab\"/></a>"
      ]
    },
    {
      "cell_type": "code",
      "execution_count": 1,
      "metadata": {
        "colab": {
          "base_uri": "https://localhost:8080/"
        },
        "id": "f0MBWKuik4J4",
        "outputId": "82793b00-3fc5-4570-ea10-6ce54024d5f9"
      },
      "outputs": [
        {
          "output_type": "stream",
          "name": "stdout",
          "text": [
            "Looking in indexes: https://pypi.org/simple, https://us-python.pkg.dev/colab-wheels/public/simple/\n",
            "Requirement already satisfied: requests in /usr/local/lib/python3.7/dist-packages (2.23.0)\n",
            "Requirement already satisfied: bs4 in /usr/local/lib/python3.7/dist-packages (0.0.1)\n",
            "Collecting colorama\n",
            "  Downloading colorama-0.4.5-py2.py3-none-any.whl (16 kB)\n",
            "Requirement already satisfied: chardet<4,>=3.0.2 in /usr/local/lib/python3.7/dist-packages (from requests) (3.0.4)\n",
            "Requirement already satisfied: certifi>=2017.4.17 in /usr/local/lib/python3.7/dist-packages (from requests) (2022.6.15)\n",
            "Requirement already satisfied: urllib3!=1.25.0,!=1.25.1,<1.26,>=1.21.1 in /usr/local/lib/python3.7/dist-packages (from requests) (1.24.3)\n",
            "Requirement already satisfied: idna<3,>=2.5 in /usr/local/lib/python3.7/dist-packages (from requests) (2.10)\n",
            "Requirement already satisfied: beautifulsoup4 in /usr/local/lib/python3.7/dist-packages (from bs4) (4.6.3)\n",
            "Installing collected packages: colorama\n",
            "Successfully installed colorama-0.4.5\n"
          ]
        }
      ],
      "source": [
        "#Let's install the dependencies:\n",
        "!pip3 install requests bs4 colorama"
      ]
    },
    {
      "cell_type": "code",
      "source": [
        "#import modules\n",
        "import requests\n",
        "from urllib.parse import urlparse, urljoin\n",
        "from bs4 import BeautifulSoup\n",
        "import colorama"
      ],
      "metadata": {
        "id": "1SAYSU1Pk_kX"
      },
      "execution_count": 2,
      "outputs": []
    },
    {
      "cell_type": "code",
      "source": [
        "# init the colorama module\n",
        "colorama.init()\n",
        "GREEN = colorama.Fore.GREEN\n",
        "GRAY = colorama.Fore.LIGHTBLACK_EX\n",
        "RESET = colorama.Fore.RESET\n",
        "YELLOW = colorama.Fore.YELLOW"
      ],
      "metadata": {
        "id": "S-JltHOvlHOo"
      },
      "execution_count": 3,
      "outputs": []
    },
    {
      "cell_type": "code",
      "source": [
        "# initialize the set of links (unique links)\n",
        "internal_urls = set()\n",
        "external_urls = set()"
      ],
      "metadata": {
        "id": "fokPvt7VlIrX"
      },
      "execution_count": 4,
      "outputs": []
    },
    {
      "cell_type": "code",
      "source": [
        "#Function to validate URLs:\n",
        "def is_valid(url):\n",
        "    \"\"\"\n",
        "    Checks whether `url` is a valid URL.\n",
        "    \"\"\"\n",
        "    parsed = urlparse(url)\n",
        "    return bool(parsed.netloc) and bool(parsed.scheme)"
      ],
      "metadata": {
        "id": "Drd3XBGslLyf"
      },
      "execution_count": 5,
      "outputs": []
    },
    {
      "cell_type": "code",
      "source": [
        "#Function to return all the valid URLs of a webpage\n",
        "def get_all_website_links(url):\n",
        "    \"\"\"\n",
        "    Returns all URLs that is found on `url` in which it belongs to the same website\n",
        "    \"\"\"\n",
        "    # all URLs of `url`\n",
        "    urls = set()\n",
        "    # domain name of the URL without the protocol\n",
        "    domain_name = urlparse(url).netloc\n",
        "    soup = BeautifulSoup(requests.get(url).content, \"html.parser\")\n",
        "    #Get all HTML a tags (anchor tags that contains all the links of the web page):\n",
        "    for a_tag in soup.findAll(\"a\"):\n",
        "        href = a_tag.attrs.get(\"href\")\n",
        "        if href == \"\" or href is None:\n",
        "            # href empty tag\n",
        "            continue\n",
        "        # join the URL if it's relative (not absolute link)\n",
        "        href = urljoin(url, href)\n",
        "        parsed_href = urlparse(href)\n",
        "        # remove URL GET parameters, URL fragments, etc.\n",
        "        href = parsed_href.scheme + \"://\" + parsed_href.netloc + parsed_href.path\n",
        "        if not is_valid(href):\n",
        "            # not a valid URL\n",
        "            continue\n",
        "        if href in internal_urls:\n",
        "            # already in the set\n",
        "            continue\n",
        "        if domain_name not in href:\n",
        "            # external link\n",
        "            if href not in external_urls:\n",
        "                print(f\"{GRAY}[!] External link: {href}{RESET}\")\n",
        "                external_urls.add(href)\n",
        "            continue\n",
        "        print(f\"{GREEN}[*] Internal link: {href}{RESET}\")\n",
        "        urls.add(href)\n",
        "        internal_urls.add(href)\n",
        "    return urls\n"
      ],
      "metadata": {
        "id": "7A2cw5uqlTbW"
      },
      "execution_count": 6,
      "outputs": []
    },
    {
      "cell_type": "code",
      "source": [
        "# number of urls visited so far will be stored here\n",
        "total_urls_visited = 0\n",
        "\n",
        "def crawl(url, max_urls=30):\n",
        "    \"\"\"\n",
        "    Crawls a web page and extracts all links.\n",
        "    You'll find all links in `external_urls` and `internal_urls` global set variables.\n",
        "    params:\n",
        "        max_urls (int): number of max urls to crawl, default is 30.\n",
        "    \"\"\"\n",
        "    global total_urls_visited\n",
        "    total_urls_visited += 1\n",
        "    print(f\"{YELLOW}[*] Crawling: {url}{RESET}\")\n",
        "    links = get_all_website_links(url)\n",
        "    for link in links:\n",
        "        if total_urls_visited > max_urls:\n",
        "            break\n",
        "        crawl(link, max_urls=max_urls)"
      ],
      "metadata": {
        "id": "8UgSW0UWmQcb"
      },
      "execution_count": 7,
      "outputs": []
    },
    {
      "cell_type": "code",
      "source": [
        "#Test time!\n",
        "if __name__ == \"__main__\":\n",
        "    crawl(\"https://benny.fun/\")\n",
        "    print(\"[+] Total Internal links:\", len(internal_urls))\n",
        "    print(\"[+] Total External links:\", len(external_urls))\n",
        "    print(\"[+] Total URLs:\", len(external_urls) + len(internal_urls))"
      ],
      "metadata": {
        "colab": {
          "base_uri": "https://localhost:8080/"
        },
        "id": "FSDvED0CmT7z",
        "outputId": "df98a8c0-0661-4c30-eecd-646668a4f512"
      },
      "execution_count": 8,
      "outputs": [
        {
          "output_type": "stream",
          "name": "stdout",
          "text": [
            "[*] Crawling: https://benny.fun/\n",
            "[*] Internal link: https://benny.fun/\n",
            "[*] Internal link: https://benny.fun/portfolio/\n",
            "[!] External link: https://github.com/bentettmar\n",
            "[!] External link: https://instagram.com/ben.tettmar\n",
            "[!] External link: https://twitter.com/bentettmar\n",
            "[!] External link: https://www.youtube.com/channel/UCNoWhqTYBrC3gFWDYNW8j5w\n",
            "[*] Internal link: https://benny.fun/cdn-cgi/l/email-protection\n",
            "[*] Internal link: https://ipinfo.benny.fun/\n",
            "[!] External link: https://menunote.app/\n",
            "[!] External link: https://github.com/FrostChat\n",
            "[!] External link: https://github.com/bentettmar/discord-img-host\n",
            "[!] External link: https://github.com/bentettmar/py-cookie-clicker\n",
            "[*] Crawling: https://benny.fun/portfolio/\n",
            "[*] Crawling: https://benny.fun/\n",
            "[*] Crawling: https://ipinfo.benny.fun/\n",
            "[!] External link: https://github.com/bentettmar/ipinfo\n",
            "[!] External link: https://github.com/bentettmar/ipinfo/releases/latest/download/IPInfo.zip\n",
            "[*] Crawling: https://benny.fun/cdn-cgi/l/email-protection\n",
            "[!] External link: https://www.cloudflare.com/sign-up\n",
            "[!] External link: https://support.cloudflare.com/hc/en-us/articles/200170016-What-is-Email-Address-Obfuscation-\n",
            "[!] External link: https://support.cloudflare.com/hc/en-us/categories/200275218-Getting-Started\n",
            "[!] External link: https://www.cloudflare.com/5xx-error-landing\n",
            "[+] Total Internal links: 4\n",
            "[+] Total External links: 14\n",
            "[+] Total URLs: 18\n"
          ]
        }
      ]
    },
    {
      "cell_type": "code",
      "source": [
        "import requests\n",
        "from urllib.parse import urlparse, urljoin\n",
        "from bs4 import BeautifulSoup\n",
        "from IPython.display import HTML as html_print\n",
        "from IPython.display import display\n",
        "\n",
        "def cstr(s, color='black'):\n",
        "    return \"<text style=color:{}>{}</text>\".format(color, s)\n",
        "\n",
        "def print_color(t):\n",
        "    display(html_print(' '.join([cstr(ti, color=ci) for ti,ci in t])))\n",
        "\n",
        "# initialize the set of links (unique links)\n",
        "internal_urls = set()\n",
        "external_urls = set()\n",
        "\n",
        "total_urls_visited = 0\n",
        "\n",
        "\n",
        "def is_valid(url):\n",
        "    \"\"\"\n",
        "    Checks whether `url` is a valid URL.\n",
        "    \"\"\"\n",
        "    parsed = urlparse(url)\n",
        "    return bool(parsed.netloc) and bool(parsed.scheme)\n",
        "\n",
        "\n",
        "def get_all_website_links(url):\n",
        "    \"\"\"\n",
        "    Returns all URLs that is found on `url` in which it belongs to the same website\n",
        "    \"\"\"\n",
        "    # all URLs of `url`\n",
        "    urls = set()\n",
        "    # domain name of the URL without the protocol\n",
        "    domain_name = urlparse(url).netloc\n",
        "    soup = BeautifulSoup(requests.get(url).content, \"html.parser\")\n",
        "    for a_tag in soup.findAll(\"a\"):\n",
        "        href = a_tag.attrs.get(\"href\")\n",
        "        if href == \"\" or href is None:\n",
        "            # href empty tag\n",
        "            continue\n",
        "        # join the URL if it's relative (not absolute link)\n",
        "        href = urljoin(url, href)\n",
        "        parsed_href = urlparse(href)\n",
        "        # remove URL GET parameters, URL fragments, etc.\n",
        "        href = parsed_href.scheme + \"://\" + parsed_href.netloc + parsed_href.path\n",
        "        if not is_valid(href):\n",
        "            # not a valid URL\n",
        "            continue\n",
        "        if href in internal_urls:\n",
        "            # already in the set\n",
        "            continue\n",
        "        if domain_name not in href:\n",
        "            # external link\n",
        "            if href not in external_urls:\n",
        "                message = print_color(((f'[*] Internal link: ', 'blue'),))\n",
        "                print_color((('[!] External link: ', 'green'),(f'{href}', '')))\n",
        "                external_urls.add(href)\n",
        "            continue\n",
        "        message = print_color(((f'[*] Internal link: ', 'blue'),))\n",
        "        print(f'{message}'.join({href})) \n",
        "        urls.add(href)\n",
        "        internal_urls.add(href)\n",
        "    return urls\n",
        "\n",
        "\n",
        "def crawl(url, max_urls=30):\n",
        "    \"\"\"\n",
        "    Crawls a web page and extracts all links.\n",
        "    You'll find all links in `external_urls` and `internal_urls` global set variables.\n",
        "    params:\n",
        "        max_urls (int): number of max urls to crawl, default is 30.\n",
        "    \"\"\"\n",
        "    global total_urls_visited\n",
        "    total_urls_visited += 1\n",
        "    print(f\"[*] Crawling: {url}\")\n",
        "    links = get_all_website_links(url)\n",
        "    for link in links:\n",
        "        if total_urls_visited > max_urls:\n",
        "            break\n",
        "        crawl(link, max_urls=max_urls)\n",
        "\n",
        "\n",
        "if __name__ == \"__main__\":\n",
        "    crawl(\"https://benny.fun/\")\n",
        "    print_color(((f\"[+] Total Internal links:  {len(internal_urls)}\", \"red\"),))\n",
        "    print_color(((f\"[+] Total External links: {len(external_urls)}\", \"red\"),))\n",
        "    print_color(((f\"[+] Total URLs: {len(external_urls)  + len(internal_urls)}\", \"red\"),))"
      ],
      "metadata": {
        "colab": {
          "base_uri": "https://localhost:8080/",
          "height": 538
        },
        "id": "WC0dIxpLnyuy",
        "outputId": "cbb9011d-0da3-430e-a804-8411110e7c4b"
      },
      "execution_count": 57,
      "outputs": [
        {
          "output_type": "stream",
          "name": "stdout",
          "text": [
            "[*] Crawling: https://benny.fun/\n"
          ]
        },
        {
          "output_type": "display_data",
          "data": {
            "text/plain": [
              "<IPython.core.display.HTML object>"
            ],
            "text/html": [
              "<text style=color:blue>[*] Internal link: </text>"
            ]
          },
          "metadata": {}
        },
        {
          "output_type": "stream",
          "name": "stdout",
          "text": [
            "https://benny.fun/\n"
          ]
        },
        {
          "output_type": "display_data",
          "data": {
            "text/plain": [
              "<IPython.core.display.HTML object>"
            ],
            "text/html": [
              "<text style=color:blue>[*] Internal link: </text>"
            ]
          },
          "metadata": {}
        },
        {
          "output_type": "stream",
          "name": "stdout",
          "text": [
            "https://benny.fun/portfolio/\n"
          ]
        },
        {
          "output_type": "display_data",
          "data": {
            "text/plain": [
              "<IPython.core.display.HTML object>"
            ],
            "text/html": [
              "<text style=color:green>[!] External link: </text> <text style=color:>https://github.com/bentettmar</text>"
            ]
          },
          "metadata": {}
        },
        {
          "output_type": "display_data",
          "data": {
            "text/plain": [
              "<IPython.core.display.HTML object>"
            ],
            "text/html": [
              "<text style=color:green>[!] External link: </text> <text style=color:>https://instagram.com/ben.tettmar</text>"
            ]
          },
          "metadata": {}
        },
        {
          "output_type": "display_data",
          "data": {
            "text/plain": [
              "<IPython.core.display.HTML object>"
            ],
            "text/html": [
              "<text style=color:green>[!] External link: </text> <text style=color:>https://twitter.com/bentettmar</text>"
            ]
          },
          "metadata": {}
        },
        {
          "output_type": "display_data",
          "data": {
            "text/plain": [
              "<IPython.core.display.HTML object>"
            ],
            "text/html": [
              "<text style=color:green>[!] External link: </text> <text style=color:>https://www.youtube.com/channel/UCNoWhqTYBrC3gFWDYNW8j5w</text>"
            ]
          },
          "metadata": {}
        },
        {
          "output_type": "display_data",
          "data": {
            "text/plain": [
              "<IPython.core.display.HTML object>"
            ],
            "text/html": [
              "<text style=color:blue>[*] Internal link: </text>"
            ]
          },
          "metadata": {}
        },
        {
          "output_type": "stream",
          "name": "stdout",
          "text": [
            "https://benny.fun/cdn-cgi/l/email-protection\n"
          ]
        },
        {
          "output_type": "display_data",
          "data": {
            "text/plain": [
              "<IPython.core.display.HTML object>"
            ],
            "text/html": [
              "<text style=color:blue>[*] Internal link: </text>"
            ]
          },
          "metadata": {}
        },
        {
          "output_type": "stream",
          "name": "stdout",
          "text": [
            "https://ipinfo.benny.fun/\n"
          ]
        },
        {
          "output_type": "display_data",
          "data": {
            "text/plain": [
              "<IPython.core.display.HTML object>"
            ],
            "text/html": [
              "<text style=color:green>[!] External link: </text> <text style=color:>https://menunote.app/</text>"
            ]
          },
          "metadata": {}
        },
        {
          "output_type": "display_data",
          "data": {
            "text/plain": [
              "<IPython.core.display.HTML object>"
            ],
            "text/html": [
              "<text style=color:green>[!] External link: </text> <text style=color:>https://github.com/FrostChat</text>"
            ]
          },
          "metadata": {}
        },
        {
          "output_type": "display_data",
          "data": {
            "text/plain": [
              "<IPython.core.display.HTML object>"
            ],
            "text/html": [
              "<text style=color:green>[!] External link: </text> <text style=color:>https://github.com/bentettmar/discord-img-host</text>"
            ]
          },
          "metadata": {}
        },
        {
          "output_type": "display_data",
          "data": {
            "text/plain": [
              "<IPython.core.display.HTML object>"
            ],
            "text/html": [
              "<text style=color:green>[!] External link: </text> <text style=color:>https://github.com/bentettmar/py-cookie-clicker</text>"
            ]
          },
          "metadata": {}
        },
        {
          "output_type": "stream",
          "name": "stdout",
          "text": [
            "[*] Crawling: https://benny.fun/portfolio/\n",
            "[*] Crawling: https://benny.fun/\n",
            "[*] Crawling: https://ipinfo.benny.fun/\n"
          ]
        },
        {
          "output_type": "display_data",
          "data": {
            "text/plain": [
              "<IPython.core.display.HTML object>"
            ],
            "text/html": [
              "<text style=color:green>[!] External link: </text> <text style=color:>https://github.com/bentettmar/ipinfo</text>"
            ]
          },
          "metadata": {}
        },
        {
          "output_type": "display_data",
          "data": {
            "text/plain": [
              "<IPython.core.display.HTML object>"
            ],
            "text/html": [
              "<text style=color:green>[!] External link: </text> <text style=color:>https://github.com/bentettmar/ipinfo/releases/latest/download/IPInfo.zip</text>"
            ]
          },
          "metadata": {}
        },
        {
          "output_type": "stream",
          "name": "stdout",
          "text": [
            "[*] Crawling: https://benny.fun/cdn-cgi/l/email-protection\n"
          ]
        },
        {
          "output_type": "display_data",
          "data": {
            "text/plain": [
              "<IPython.core.display.HTML object>"
            ],
            "text/html": [
              "<text style=color:green>[!] External link: </text> <text style=color:>https://www.cloudflare.com/sign-up</text>"
            ]
          },
          "metadata": {}
        },
        {
          "output_type": "display_data",
          "data": {
            "text/plain": [
              "<IPython.core.display.HTML object>"
            ],
            "text/html": [
              "<text style=color:green>[!] External link: </text> <text style=color:>https://support.cloudflare.com/hc/en-us/articles/200170016-What-is-Email-Address-Obfuscation-</text>"
            ]
          },
          "metadata": {}
        },
        {
          "output_type": "display_data",
          "data": {
            "text/plain": [
              "<IPython.core.display.HTML object>"
            ],
            "text/html": [
              "<text style=color:green>[!] External link: </text> <text style=color:>https://support.cloudflare.com/hc/en-us/categories/200275218-Getting-Started</text>"
            ]
          },
          "metadata": {}
        },
        {
          "output_type": "display_data",
          "data": {
            "text/plain": [
              "<IPython.core.display.HTML object>"
            ],
            "text/html": [
              "<text style=color:green>[!] External link: </text> <text style=color:>https://www.cloudflare.com/5xx-error-landing</text>"
            ]
          },
          "metadata": {}
        },
        {
          "output_type": "display_data",
          "data": {
            "text/plain": [
              "<IPython.core.display.HTML object>"
            ],
            "text/html": [
              "<text style=color:red>[+] Total Internal links:  4</text>"
            ]
          },
          "metadata": {}
        },
        {
          "output_type": "display_data",
          "data": {
            "text/plain": [
              "<IPython.core.display.HTML object>"
            ],
            "text/html": [
              "<text style=color:red>[+] Total External links: 14</text>"
            ]
          },
          "metadata": {}
        },
        {
          "output_type": "display_data",
          "data": {
            "text/plain": [
              "<IPython.core.display.HTML object>"
            ],
            "text/html": [
              "<text style=color:red>[+] Total URLs: 18</text>"
            ]
          },
          "metadata": {}
        }
      ]
    },
    {
      "cell_type": "code",
      "source": [
        "from IPython.display import HTML as html_print\n",
        "from IPython.display import display\n",
        "\n",
        "def cstr(s, color='black'):\n",
        "    return \"<text style=color:{}>{}</text>\".format(color, s)\n",
        "\n",
        "def print_color(t):\n",
        "    display(html_print(' '.join([cstr(ti, color=ci) for ti,ci in t])))\n",
        "\n",
        "print_color((('hello my name is', 'black'),('jhjfd','red')))\n",
        "print_color((('hello my name is', 'green'),))"
      ],
      "metadata": {
        "id": "8M27BVgMoGPt",
        "colab": {
          "base_uri": "https://localhost:8080/",
          "height": 52
        },
        "outputId": "174bad66-3784-4eb7-c758-bfbf2a090c75"
      },
      "execution_count": 22,
      "outputs": [
        {
          "output_type": "display_data",
          "data": {
            "text/plain": [
              "<IPython.core.display.HTML object>"
            ],
            "text/html": [
              "<text style=color:black>hello my name is</text> <text style=color:red>jhjfd</text>"
            ]
          },
          "metadata": {}
        },
        {
          "output_type": "display_data",
          "data": {
            "text/plain": [
              "<IPython.core.display.HTML object>"
            ],
            "text/html": [
              "<text style=color:green>hello my name is</text>"
            ]
          },
          "metadata": {}
        }
      ]
    }
  ]
}